{
  "cells": [
    {
      "cell_type": "code",
      "id": "5Oh6wYJudJrCmu2GgfW5XqyL",
      "metadata": {
        "tags": [],
        "id": "5Oh6wYJudJrCmu2GgfW5XqyL",
        "colab": {
          "base_uri": "https://localhost:8080/",
          "height": 652
        },
        "outputId": "5b4219f4-a279-4b67-b547-9b293cbcb172"
      },
      "source": [
        "!pip3 install --upgrade --user google-genai"
      ],
      "execution_count": null,
      "outputs": [
        {
          "output_type": "stream",
          "name": "stdout",
          "text": [
            "Requirement already satisfied: google-genai in /usr/local/lib/python3.11/dist-packages (1.18.0)\n",
            "Collecting google-genai\n",
            "  Downloading google_genai-1.21.1-py3-none-any.whl.metadata (37 kB)\n",
            "Requirement already satisfied: anyio<5.0.0,>=4.8.0 in /usr/local/lib/python3.11/dist-packages (from google-genai) (4.9.0)\n",
            "Requirement already satisfied: google-auth<3.0.0,>=2.14.1 in /usr/local/lib/python3.11/dist-packages (from google-genai) (2.38.0)\n",
            "Requirement already satisfied: httpx<1.0.0,>=0.28.1 in /usr/local/lib/python3.11/dist-packages (from google-genai) (0.28.1)\n",
            "Requirement already satisfied: pydantic<3.0.0,>=2.0.0 in /usr/local/lib/python3.11/dist-packages (from google-genai) (2.11.5)\n",
            "Requirement already satisfied: requests<3.0.0,>=2.28.1 in /usr/local/lib/python3.11/dist-packages (from google-genai) (2.32.3)\n",
            "Collecting tenacity<9.0.0,>=8.2.3 (from google-genai)\n",
            "  Downloading tenacity-8.5.0-py3-none-any.whl.metadata (1.2 kB)\n",
            "Requirement already satisfied: websockets<15.1.0,>=13.0.0 in /usr/local/lib/python3.11/dist-packages (from google-genai) (15.0.1)\n",
            "Requirement already satisfied: typing-extensions<5.0.0,>=4.11.0 in /usr/local/lib/python3.11/dist-packages (from google-genai) (4.14.0)\n",
            "Requirement already satisfied: idna>=2.8 in /usr/local/lib/python3.11/dist-packages (from anyio<5.0.0,>=4.8.0->google-genai) (3.10)\n",
            "Requirement already satisfied: sniffio>=1.1 in /usr/local/lib/python3.11/dist-packages (from anyio<5.0.0,>=4.8.0->google-genai) (1.3.1)\n",
            "Requirement already satisfied: cachetools<6.0,>=2.0.0 in /usr/local/lib/python3.11/dist-packages (from google-auth<3.0.0,>=2.14.1->google-genai) (5.5.2)\n",
            "Requirement already satisfied: pyasn1-modules>=0.2.1 in /usr/local/lib/python3.11/dist-packages (from google-auth<3.0.0,>=2.14.1->google-genai) (0.4.2)\n",
            "Requirement already satisfied: rsa<5,>=3.1.4 in /usr/local/lib/python3.11/dist-packages (from google-auth<3.0.0,>=2.14.1->google-genai) (4.9.1)\n",
            "Requirement already satisfied: certifi in /usr/local/lib/python3.11/dist-packages (from httpx<1.0.0,>=0.28.1->google-genai) (2025.4.26)\n",
            "Requirement already satisfied: httpcore==1.* in /usr/local/lib/python3.11/dist-packages (from httpx<1.0.0,>=0.28.1->google-genai) (1.0.9)\n",
            "Requirement already satisfied: h11>=0.16 in /usr/local/lib/python3.11/dist-packages (from httpcore==1.*->httpx<1.0.0,>=0.28.1->google-genai) (0.16.0)\n",
            "Requirement already satisfied: annotated-types>=0.6.0 in /usr/local/lib/python3.11/dist-packages (from pydantic<3.0.0,>=2.0.0->google-genai) (0.7.0)\n",
            "Requirement already satisfied: pydantic-core==2.33.2 in /usr/local/lib/python3.11/dist-packages (from pydantic<3.0.0,>=2.0.0->google-genai) (2.33.2)\n",
            "Requirement already satisfied: typing-inspection>=0.4.0 in /usr/local/lib/python3.11/dist-packages (from pydantic<3.0.0,>=2.0.0->google-genai) (0.4.1)\n",
            "Requirement already satisfied: charset-normalizer<4,>=2 in /usr/local/lib/python3.11/dist-packages (from requests<3.0.0,>=2.28.1->google-genai) (3.4.2)\n",
            "Requirement already satisfied: urllib3<3,>=1.21.1 in /usr/local/lib/python3.11/dist-packages (from requests<3.0.0,>=2.28.1->google-genai) (2.4.0)\n",
            "Requirement already satisfied: pyasn1<0.7.0,>=0.6.1 in /usr/local/lib/python3.11/dist-packages (from pyasn1-modules>=0.2.1->google-auth<3.0.0,>=2.14.1->google-genai) (0.6.1)\n",
            "Downloading google_genai-1.21.1-py3-none-any.whl (206 kB)\n",
            "\u001b[2K   \u001b[90m━━━━━━━━━━━━━━━━━━━━━━━━━━━━━━━━━━━━━━━━\u001b[0m \u001b[32m206.4/206.4 kB\u001b[0m \u001b[31m7.3 MB/s\u001b[0m eta \u001b[36m0:00:00\u001b[0m\n",
            "\u001b[?25hDownloading tenacity-8.5.0-py3-none-any.whl (28 kB)\n",
            "Installing collected packages: tenacity, google-genai\n",
            "Successfully installed google-genai-1.21.1 tenacity-8.5.0\n"
          ]
        },
        {
          "output_type": "display_data",
          "data": {
            "application/vnd.colab-display-data+json": {
              "pip_warning": {
                "packages": [
                  "google"
                ]
              },
              "id": "692eb86c9aef470899559d5fd30ce103"
            }
          },
          "metadata": {}
        }
      ]
    },
    {
      "cell_type": "code",
      "source": [
        "MODEL=\"gemini-2.5-flash-lite-preview-06-17\"\n",
        "PROJECT=\"qwiklabs-gcp-01-c30f5b5b9f95\"\n",
        "LOCATION = \"global\"\n",
        "\n",
        "from google import genai\n",
        "\n",
        "client = genai.Client(vertexai=True, project=PROJECT, location=LOCATION)\n",
        "prompt = \"o que o gemini model pode realizar?\"\n",
        "response = client.models.generate_content(    model=MODEL, contents=prompt)\n",
        "print(response.text)"
      ],
      "metadata": {
        "colab": {
          "base_uri": "https://localhost:8080/"
        },
        "collapsed": true,
        "id": "M7FLBgA5Qdh0",
        "outputId": "2ced19b9-ed0e-4d78-c6fd-0b3294ff19d7"
      },
      "id": "M7FLBgA5Qdh0",
      "execution_count": null,
      "outputs": [
        {
          "output_type": "stream",
          "name": "stdout",
          "text": [
            "O Gemini é um modelo de linguagem grande (LLM) desenvolvido pelo Google AI. Ele é projetado para ser multimodal, o que significa que pode entender e operar em diferentes tipos de informações, como texto, código, áudio, imagem e vídeo.\n",
            "\n",
            "Aqui estão algumas das principais coisas que o Gemini pode realizar:\n",
            "\n",
            "**Compreensão e Geração de Texto:**\n",
            "\n",
            "*   **Responder a perguntas:** Desde perguntas simples de conhecimento geral até questões mais complexas que exigem raciocínio e síntese de informações.\n",
            "*   **Escrever diferentes tipos de conteúdo criativo:** Poemas, roteiros, peças musicais, e-mails, cartas, posts de blog, etc.\n",
            "*   **Resumir informações:** Extrair os pontos principais de textos longos, artigos, documentos.\n",
            "*   **Traduzir idiomas:** Converter texto de um idioma para outro.\n",
            "*   **Gerar código:** Escrever código em várias linguagens de programação, ajudar na depuração e explicação de trechos de código.\n",
            "*   **Analisar e interpretar texto:** Identificar sentimentos, extrair entidades, classificar texto.\n",
            "*   **Conversar de forma natural:** Manter diálogos coerentes e envolventes.\n",
            "\n",
            "**Capacidades Multimodais (o que o diferencia):**\n",
            "\n",
            "*   **Compreensão de Imagens:**\n",
            "    *   **Descrever imagens:** Explicar o que está acontecendo em uma foto.\n",
            "    *   **Responder perguntas sobre imagens:** Por exemplo, \"Qual a cor do carro na foto?\".\n",
            "    *   **Extrair informações de imagens:** Identificar objetos, texto em imagens (OCR).\n",
            "    *   **Criar legendas para imagens.**\n",
            "    *   **Realizar tarefas de edição ou manipulação de imagens (em conjunto com outras ferramentas).**\n",
            "*   **Compreensão de Áudio:**\n",
            "    *   **Transcrever áudio em texto.**\n",
            "    *   **Entender o significado do áudio.**\n",
            "    *   **Responder a perguntas sobre o conteúdo de áudios.**\n",
            "*   **Compreensão de Vídeo:**\n",
            "    *   **Descrever o que acontece em um vídeo.**\n",
            "    *   **Identificar objetos e ações em quadros de vídeo.**\n",
            "    *   **Responder a perguntas sobre o conteúdo de vídeos.**\n",
            "*   **Combinação de Múltiplas Modalidades:** A verdadeira força do Gemini reside em sua capacidade de integrar essas diferentes formas de dados. Por exemplo:\n",
            "    *   Você pode enviar uma imagem e fazer uma pergunta sobre ela em texto.\n",
            "    *   Você pode mostrar um vídeo e pedir para o Gemini explicar uma parte específica ou identificar algo.\n",
            "    *   Pode analisar código e, com base em um diagrama (imagem), explicar como o código funciona.\n",
            "\n",
            "**Aplicações Potenciais e Usos:**\n",
            "\n",
            "*   **Assistentes Virtuais:** Mais avançados e capazes de entender contextos mais ricos.\n",
            "*   **Educação:** Ajudar alunos a entender conceitos complexos, criar materiais de estudo.\n",
            "*   **Pesquisa e Desenvolvimento:** Analisar grandes volumes de dados, gerar hipóteses.\n",
            "*   **Criação de Conteúdo:** Acelerar o processo de escrita, roteirização e design.\n",
            "*   **Acessibilidade:** Gerar descrições de áudio para imagens e vídeos para pessoas com deficiência visual.\n",
            "*   **Programação:** Auxiliar desenvolvedores na escrita, depuração e documentação de código.\n",
            "\n",
            "**É importante notar que:**\n",
            "\n",
            "*   **Gemini é um modelo em evolução:** O Google continua a aprimorar o Gemini, expandindo suas capacidades e melhorando seu desempenho.\n",
            "*   **As capacidades específicas podem variar:** Diferentes versões ou implementações do Gemini (como Gemini Pro, Gemini Ultra) podem ter conjuntos de recursos ligeiramente diferentes.\n",
            "*   **Aplicações práticas estão sendo desenvolvidas:** Muitas das funcionalidades do Gemini estão sendo integradas em produtos e serviços do Google e de terceiros.\n",
            "\n",
            "Em resumo, o Gemini é uma IA poderosa e versátil que pode processar e gerar informações de maneira muito mais abrangente e contextualizada do que modelos de linguagem anteriores, especialmente devido à sua natureza multimodal.\n"
          ]
        }
      ]
    },
    {
      "cell_type": "code",
      "source": [
        "from google import genai\n",
        "from google.genai import types\n",
        "\n",
        "prompt = [\n",
        "    types.Content(\n",
        "        role=\"user\",\n",
        "        parts=[types.Part.from_text(text=\"\"\"voce eh um professor de 5a serie. o que o gemini model pode realizar? \"\"\")]\n",
        "    )]\n",
        "response = client.models.generate_content(    model=MODEL, contents=prompt)\n",
        "print(response.text)"
      ],
      "metadata": {
        "colab": {
          "base_uri": "https://localhost:8080/"
        },
        "collapsed": true,
        "id": "WC9rF993RNwL",
        "outputId": "84b6e01a-e377-4fd5-85db-60de4ce65480"
      },
      "id": "WC9rF993RNwL",
      "execution_count": null,
      "outputs": [
        {
          "output_type": "stream",
          "name": "stdout",
          "text": [
            "Olá, meus queridos alunos! Que bom ter vocês aqui hoje! Sou o professor de vocês e hoje vamos falar sobre uma coisa muito, muito legal que está surgindo no mundo da tecnologia, que se chama **Gemini**.\n",
            "\n",
            "Vocês já sabem que os computadores e os celulares são como cérebros eletrônicos, né? Eles nos ajudam a fazer muitas coisas, como jogar, assistir vídeos, pesquisar sobre dinossauros ou sobre como fazer um bolo.\n",
            "\n",
            "Agora, imaginem um cérebro eletrônico que consegue entender tudo o que a gente fala, ler, escrever e até criar coisas novas! Esse é um pouco do que o Gemini pode fazer.\n",
            "\n",
            "**Pensem no Gemini como um super ajudante inteligente, um amigo que sabe de muita coisa e pode nos ajudar em várias tarefas da escola e da vida!**\n",
            "\n",
            "Vamos ver o que ele pode fazer, como se fosse uma lista de poderes dele:\n",
            "\n",
            "**1. Responder Perguntas:**\n",
            "\n",
            "*   **Vocês têm dúvidas sobre alguma matéria?** Por exemplo, \"Professor, por que o céu é azul?\" ou \"Quais são os planetas do sistema solar?\" O Gemini pode pesquisar rapidinho e explicar pra gente de um jeito que a gente entenda!\n",
            "*   Se vocês quiserem saber mais sobre um animal que vocês viram em um desenho, tipo um leão-marinho, podem perguntar para ele quem ele é, o que ele come, onde ele mora.\n",
            "\n",
            "**2. Escrever Histórias e Poemas:**\n",
            "\n",
            "*   **Vocês gostam de inventar histórias?** O Gemini pode ajudar! Vocês podem dizer: \"Gemini, crie uma história sobre um robô que virou amigo de um cachorro.\" E ele vai escrever uma história legal pra vocês!\n",
            "*   Ele também pode ajudar a escrever um poema para o Dia das Mães ou para a festa junina.\n",
            "\n",
            "**3. Criar Desenhos e Ideias Visuais:**\n",
            "\n",
            "*   Imaginem que vocês precisam desenhar uma casa em Marte, mas não sabem como seria. Vocês podem pedir para o Gemini: \"Gemini, me mostre como seria uma casa em Marte, com janelas grandes e um telhado que protege do frio.\" Ele pode ajudar a criar imagens para vocês terem ideias!\n",
            "\n",
            "**4. Ajudar a Aprender Coisas Novas:**\n",
            "\n",
            "*   Se vocês estão aprendendo sobre o corpo humano, ele pode explicar o que faz cada órgão de um jeito fácil.\n",
            "*   Ele pode até nos ajudar a aprender uma língua nova, mostrando como se fala algumas palavras em inglês ou espanhol.\n",
            "\n",
            "**5. Resolver Problemas e Dar Sugestões:**\n",
            "\n",
            "*   Vocês estão planejando uma festa de aniversário? O Gemini pode dar ideias de comidinhas, brincadeiras e até de decoração!\n",
            "*   Se vocês precisam organizar o tempo para estudar para uma prova e para brincar, ele pode ajudar a criar um cronograma.\n",
            "\n",
            "**Mas atenção, crianças!**\n",
            "\n",
            "*   O Gemini é muito inteligente, mas **ele ainda está aprendendo**. Às vezes, ele pode se confundir ou dar alguma informação que não é totalmente certa.\n",
            "*   Por isso, é sempre bom **verificar com o professor ou com os pais** se a informação é realmente correta. Ele é um **ajudante**, mas o nosso cérebro, o de vocês, é o mais importante para pensar e aprender de verdade!\n",
            "*   E o mais importante: **ele não é uma pessoa!** Ele é um programa de computador.\n",
            "\n",
            "**Resumindo:** O Gemini é uma ferramenta incrível que pode nos ajudar a aprender, criar e explorar o mundo de uma forma nova e divertida. É como ter um super assistente virtual!\n",
            "\n",
            "Agora, quem tem alguma pergunta sobre o que o Gemini pode fazer? Vamos lá, não tenham medo de perguntar!\n"
          ]
        }
      ]
    },
    {
      "cell_type": "code",
      "source": [
        "import mimetypes\n",
        "LOCATION = \"us-central1\"\n",
        "MODEL = \"publishers/google/models/imagen-4.0-ultra-generate-preview-06-06\"\n",
        "client = genai.Client(vertexai=True, project=PROJECT, location=LOCATION)\n",
        "\n",
        "prompt = [\n",
        "    types.Content(\n",
        "        role=\"user\",\n",
        "        parts=[types.Part.from_text(text=\"\"\"crie a capa de um livro de introducao ao python\"\"\")]\n",
        "    )]\n",
        "\n",
        "def save_binary_file(file_name, data):\n",
        "    f = open(file_name, \"wb\")\n",
        "    f.write(data)\n",
        "    f.close()\n",
        "\n",
        "generate_content_config = types.GenerateContentConfig(response_modalities=[\"image\",\"text\"],response_mime_type=\"text/plain\")\n",
        "\n",
        "for chunk in client.models.generate_content_stream(model=MODEL,contents=prompt,config=generate_content_config):\n",
        "    if chunk.candidates is None or chunk.candidates[0].content is None or chunk.candidates[0].content.parts is None:\n",
        "        continue\n",
        "    if chunk.candidates[0].content.parts[0].inline_data:\n",
        "        file_name = \"IMAGE_\"\n",
        "        inline_data = chunk.candidates[0].content.parts[0].inline_data\n",
        "        file_extension = mimetypes.guess_extension(inline_data.mime_type)\n",
        "        save_binary_file(f\"{file_name}{file_extension}\", inline_data.data)\n",
        "        print(f\" {inline_data.mime_type} saved to: {file_name}\")\n",
        "    else:\n",
        "        print(chunk.text)\n",
        "\n"
      ],
      "metadata": {
        "colab": {
          "base_uri": "https://localhost:8080/",
          "height": 373
        },
        "collapsed": true,
        "id": "Pstb_xJjSFee",
        "outputId": "706cedcd-ffc4-4bee-8811-916e62b28fc4"
      },
      "id": "Pstb_xJjSFee",
      "execution_count": null,
      "outputs": [
        {
          "output_type": "error",
          "ename": "ClientError",
          "evalue": "429 RESOURCE_EXHAUSTED. {'error': {'code': 429, 'message': 'Quota exceeded for aiplatform.googleapis.com/generate_content_requests_per_minute_per_project_per_base_model with base model: imagen-4.0-ultra-generate. Please submit a quota increase request. https://cloud.google.com/vertex-ai/docs/generative-ai/quotas-genai.', 'status': 'RESOURCE_EXHAUSTED'}}",
          "traceback": [
            "\u001b[0;31m---------------------------------------------------------------------------\u001b[0m",
            "\u001b[0;31mClientError\u001b[0m                               Traceback (most recent call last)",
            "\u001b[0;32m<ipython-input-6-1534604681>\u001b[0m in \u001b[0;36m<cell line: 0>\u001b[0;34m()\u001b[0m\n\u001b[1;32m     17\u001b[0m \u001b[0mgenerate_content_config\u001b[0m \u001b[0;34m=\u001b[0m \u001b[0mtypes\u001b[0m\u001b[0;34m.\u001b[0m\u001b[0mGenerateContentConfig\u001b[0m\u001b[0;34m(\u001b[0m\u001b[0mresponse_modalities\u001b[0m\u001b[0;34m=\u001b[0m\u001b[0;34m[\u001b[0m\u001b[0;34m\"image\"\u001b[0m\u001b[0;34m,\u001b[0m\u001b[0;34m\"text\"\u001b[0m\u001b[0;34m]\u001b[0m\u001b[0;34m,\u001b[0m\u001b[0mresponse_mime_type\u001b[0m\u001b[0;34m=\u001b[0m\u001b[0;34m\"text/plain\"\u001b[0m\u001b[0;34m)\u001b[0m\u001b[0;34m\u001b[0m\u001b[0;34m\u001b[0m\u001b[0m\n\u001b[1;32m     18\u001b[0m \u001b[0;34m\u001b[0m\u001b[0m\n\u001b[0;32m---> 19\u001b[0;31m \u001b[0;32mfor\u001b[0m \u001b[0mchunk\u001b[0m \u001b[0;32min\u001b[0m \u001b[0mclient\u001b[0m\u001b[0;34m.\u001b[0m\u001b[0mmodels\u001b[0m\u001b[0;34m.\u001b[0m\u001b[0mgenerate_content_stream\u001b[0m\u001b[0;34m(\u001b[0m\u001b[0mmodel\u001b[0m\u001b[0;34m=\u001b[0m\u001b[0mMODEL\u001b[0m\u001b[0;34m,\u001b[0m\u001b[0mcontents\u001b[0m\u001b[0;34m=\u001b[0m\u001b[0mprompt\u001b[0m\u001b[0;34m,\u001b[0m\u001b[0mconfig\u001b[0m\u001b[0;34m=\u001b[0m\u001b[0mgenerate_content_config\u001b[0m\u001b[0;34m)\u001b[0m\u001b[0;34m:\u001b[0m\u001b[0;34m\u001b[0m\u001b[0;34m\u001b[0m\u001b[0m\n\u001b[0m\u001b[1;32m     20\u001b[0m     \u001b[0;32mif\u001b[0m \u001b[0mchunk\u001b[0m\u001b[0;34m.\u001b[0m\u001b[0mcandidates\u001b[0m \u001b[0;32mis\u001b[0m \u001b[0;32mNone\u001b[0m \u001b[0;32mor\u001b[0m \u001b[0mchunk\u001b[0m\u001b[0;34m.\u001b[0m\u001b[0mcandidates\u001b[0m\u001b[0;34m[\u001b[0m\u001b[0;36m0\u001b[0m\u001b[0;34m]\u001b[0m\u001b[0;34m.\u001b[0m\u001b[0mcontent\u001b[0m \u001b[0;32mis\u001b[0m \u001b[0;32mNone\u001b[0m \u001b[0;32mor\u001b[0m \u001b[0mchunk\u001b[0m\u001b[0;34m.\u001b[0m\u001b[0mcandidates\u001b[0m\u001b[0;34m[\u001b[0m\u001b[0;36m0\u001b[0m\u001b[0;34m]\u001b[0m\u001b[0;34m.\u001b[0m\u001b[0mcontent\u001b[0m\u001b[0;34m.\u001b[0m\u001b[0mparts\u001b[0m \u001b[0;32mis\u001b[0m \u001b[0;32mNone\u001b[0m\u001b[0;34m:\u001b[0m\u001b[0;34m\u001b[0m\u001b[0;34m\u001b[0m\u001b[0m\n\u001b[1;32m     21\u001b[0m         \u001b[0;32mcontinue\u001b[0m\u001b[0;34m\u001b[0m\u001b[0;34m\u001b[0m\u001b[0m\n",
            "\u001b[0;32m/usr/local/lib/python3.11/dist-packages/google/genai/models.py\u001b[0m in \u001b[0;36mgenerate_content_stream\u001b[0;34m(self, model, contents, config)\u001b[0m\n\u001b[1;32m   6109\u001b[0m         \u001b[0;31m# Then get function response parts.\u001b[0m\u001b[0;34m\u001b[0m\u001b[0;34m\u001b[0m\u001b[0m\n\u001b[1;32m   6110\u001b[0m         \u001b[0;31m# Yield chunks only if there's no function response parts.\u001b[0m\u001b[0;34m\u001b[0m\u001b[0;34m\u001b[0m\u001b[0m\n\u001b[0;32m-> 6111\u001b[0;31m         \u001b[0;32mfor\u001b[0m \u001b[0mchunk\u001b[0m \u001b[0;32min\u001b[0m \u001b[0mresponse\u001b[0m\u001b[0;34m:\u001b[0m\u001b[0;34m\u001b[0m\u001b[0;34m\u001b[0m\u001b[0m\n\u001b[0m\u001b[1;32m   6112\u001b[0m           \u001b[0;32mif\u001b[0m \u001b[0;32mnot\u001b[0m \u001b[0mfunction_map\u001b[0m\u001b[0;34m:\u001b[0m\u001b[0;34m\u001b[0m\u001b[0;34m\u001b[0m\u001b[0m\n\u001b[1;32m   6113\u001b[0m             \u001b[0;32myield\u001b[0m \u001b[0mchunk\u001b[0m\u001b[0;34m\u001b[0m\u001b[0;34m\u001b[0m\u001b[0m\n",
            "\u001b[0;32m/usr/local/lib/python3.11/dist-packages/google/genai/models.py\u001b[0m in \u001b[0;36m_generate_content_stream\u001b[0;34m(self, model, contents, config)\u001b[0m\n\u001b[1;32m   4992\u001b[0m     \u001b[0mrequest_dict\u001b[0m \u001b[0;34m=\u001b[0m \u001b[0m_common\u001b[0m\u001b[0;34m.\u001b[0m\u001b[0mencode_unserializable_types\u001b[0m\u001b[0;34m(\u001b[0m\u001b[0mrequest_dict\u001b[0m\u001b[0;34m)\u001b[0m\u001b[0;34m\u001b[0m\u001b[0;34m\u001b[0m\u001b[0m\n\u001b[1;32m   4993\u001b[0m \u001b[0;34m\u001b[0m\u001b[0m\n\u001b[0;32m-> 4994\u001b[0;31m     for response_dict in self._api_client.request_streamed(\n\u001b[0m\u001b[1;32m   4995\u001b[0m         \u001b[0;34m'post'\u001b[0m\u001b[0;34m,\u001b[0m \u001b[0mpath\u001b[0m\u001b[0;34m,\u001b[0m \u001b[0mrequest_dict\u001b[0m\u001b[0;34m,\u001b[0m \u001b[0mhttp_options\u001b[0m\u001b[0;34m\u001b[0m\u001b[0;34m\u001b[0m\u001b[0m\n\u001b[1;32m   4996\u001b[0m     ):\n",
            "\u001b[0;32m/usr/local/lib/python3.11/dist-packages/google/genai/_api_client.py\u001b[0m in \u001b[0;36mrequest_streamed\u001b[0;34m(self, http_method, path, request_dict, http_options)\u001b[0m\n\u001b[1;32m    782\u001b[0m     )\n\u001b[1;32m    783\u001b[0m \u001b[0;34m\u001b[0m\u001b[0m\n\u001b[0;32m--> 784\u001b[0;31m     \u001b[0msession_response\u001b[0m \u001b[0;34m=\u001b[0m \u001b[0mself\u001b[0m\u001b[0;34m.\u001b[0m\u001b[0m_request\u001b[0m\u001b[0;34m(\u001b[0m\u001b[0mhttp_request\u001b[0m\u001b[0;34m,\u001b[0m \u001b[0mstream\u001b[0m\u001b[0;34m=\u001b[0m\u001b[0;32mTrue\u001b[0m\u001b[0;34m)\u001b[0m\u001b[0;34m\u001b[0m\u001b[0;34m\u001b[0m\u001b[0m\n\u001b[0m\u001b[1;32m    785\u001b[0m     \u001b[0;32mfor\u001b[0m \u001b[0mchunk\u001b[0m \u001b[0;32min\u001b[0m \u001b[0msession_response\u001b[0m\u001b[0;34m.\u001b[0m\u001b[0msegments\u001b[0m\u001b[0;34m(\u001b[0m\u001b[0;34m)\u001b[0m\u001b[0;34m:\u001b[0m\u001b[0;34m\u001b[0m\u001b[0;34m\u001b[0m\u001b[0m\n\u001b[1;32m    786\u001b[0m       \u001b[0;32myield\u001b[0m \u001b[0mchunk\u001b[0m\u001b[0;34m\u001b[0m\u001b[0;34m\u001b[0m\u001b[0m\n",
            "\u001b[0;32m/usr/local/lib/python3.11/dist-packages/google/genai/_api_client.py\u001b[0m in \u001b[0;36m_request\u001b[0;34m(self, http_request, stream)\u001b[0m\n\u001b[1;32m    680\u001b[0m       )\n\u001b[1;32m    681\u001b[0m       \u001b[0mresponse\u001b[0m \u001b[0;34m=\u001b[0m \u001b[0mself\u001b[0m\u001b[0;34m.\u001b[0m\u001b[0m_httpx_client\u001b[0m\u001b[0;34m.\u001b[0m\u001b[0msend\u001b[0m\u001b[0;34m(\u001b[0m\u001b[0mhttpx_request\u001b[0m\u001b[0;34m,\u001b[0m \u001b[0mstream\u001b[0m\u001b[0;34m=\u001b[0m\u001b[0mstream\u001b[0m\u001b[0;34m)\u001b[0m\u001b[0;34m\u001b[0m\u001b[0;34m\u001b[0m\u001b[0m\n\u001b[0;32m--> 682\u001b[0;31m       \u001b[0merrors\u001b[0m\u001b[0;34m.\u001b[0m\u001b[0mAPIError\u001b[0m\u001b[0;34m.\u001b[0m\u001b[0mraise_for_response\u001b[0m\u001b[0;34m(\u001b[0m\u001b[0mresponse\u001b[0m\u001b[0;34m)\u001b[0m\u001b[0;34m\u001b[0m\u001b[0;34m\u001b[0m\u001b[0m\n\u001b[0m\u001b[1;32m    683\u001b[0m       return HttpResponse(\n\u001b[1;32m    684\u001b[0m           \u001b[0mresponse\u001b[0m\u001b[0;34m.\u001b[0m\u001b[0mheaders\u001b[0m\u001b[0;34m,\u001b[0m \u001b[0mresponse\u001b[0m \u001b[0;32mif\u001b[0m \u001b[0mstream\u001b[0m \u001b[0;32melse\u001b[0m \u001b[0;34m[\u001b[0m\u001b[0mresponse\u001b[0m\u001b[0;34m.\u001b[0m\u001b[0mtext\u001b[0m\u001b[0;34m]\u001b[0m\u001b[0;34m\u001b[0m\u001b[0;34m\u001b[0m\u001b[0m\n",
            "\u001b[0;32m/usr/local/lib/python3.11/dist-packages/google/genai/errors.py\u001b[0m in \u001b[0;36mraise_for_response\u001b[0;34m(cls, response)\u001b[0m\n\u001b[1;32m     99\u001b[0m     \u001b[0mstatus_code\u001b[0m \u001b[0;34m=\u001b[0m \u001b[0mresponse\u001b[0m\u001b[0;34m.\u001b[0m\u001b[0mstatus_code\u001b[0m\u001b[0;34m\u001b[0m\u001b[0;34m\u001b[0m\u001b[0m\n\u001b[1;32m    100\u001b[0m     \u001b[0;32mif\u001b[0m \u001b[0;36m400\u001b[0m \u001b[0;34m<=\u001b[0m \u001b[0mstatus_code\u001b[0m \u001b[0;34m<\u001b[0m \u001b[0;36m500\u001b[0m\u001b[0;34m:\u001b[0m\u001b[0;34m\u001b[0m\u001b[0;34m\u001b[0m\u001b[0m\n\u001b[0;32m--> 101\u001b[0;31m       \u001b[0;32mraise\u001b[0m \u001b[0mClientError\u001b[0m\u001b[0;34m(\u001b[0m\u001b[0mstatus_code\u001b[0m\u001b[0;34m,\u001b[0m \u001b[0mresponse_json\u001b[0m\u001b[0;34m,\u001b[0m \u001b[0mresponse\u001b[0m\u001b[0;34m)\u001b[0m\u001b[0;34m\u001b[0m\u001b[0;34m\u001b[0m\u001b[0m\n\u001b[0m\u001b[1;32m    102\u001b[0m     \u001b[0;32melif\u001b[0m \u001b[0;36m500\u001b[0m \u001b[0;34m<=\u001b[0m \u001b[0mstatus_code\u001b[0m \u001b[0;34m<\u001b[0m \u001b[0;36m600\u001b[0m\u001b[0;34m:\u001b[0m\u001b[0;34m\u001b[0m\u001b[0;34m\u001b[0m\u001b[0m\n\u001b[1;32m    103\u001b[0m       \u001b[0;32mraise\u001b[0m \u001b[0mServerError\u001b[0m\u001b[0;34m(\u001b[0m\u001b[0mstatus_code\u001b[0m\u001b[0;34m,\u001b[0m \u001b[0mresponse_json\u001b[0m\u001b[0;34m,\u001b[0m \u001b[0mresponse\u001b[0m\u001b[0;34m)\u001b[0m\u001b[0;34m\u001b[0m\u001b[0;34m\u001b[0m\u001b[0m\n",
            "\u001b[0;31mClientError\u001b[0m: 429 RESOURCE_EXHAUSTED. {'error': {'code': 429, 'message': 'Quota exceeded for aiplatform.googleapis.com/generate_content_requests_per_minute_per_project_per_base_model with base model: imagen-4.0-ultra-generate. Please submit a quota increase request. https://cloud.google.com/vertex-ai/docs/generative-ai/quotas-genai.', 'status': 'RESOURCE_EXHAUSTED'}}"
          ]
        }
      ]
    },
    {
      "cell_type": "code",
      "source": [
        "from google.auth import default, transport\n",
        "credentials, _ = default()\n",
        "auth_request = transport.requests.Request()\n",
        "credentials.refresh(auth_request)\n",
        "API_KEY=credentials.token\n",
        "\n",
        "#API_KEY"
      ],
      "metadata": {
        "id": "Ze1eqMZnSrDp"
      },
      "id": "Ze1eqMZnSrDp",
      "execution_count": null,
      "outputs": []
    },
    {
      "cell_type": "markdown",
      "source": [
        "## Fora do GCP"
      ],
      "metadata": {
        "id": "p9jzhWFTVx4s"
      },
      "id": "p9jzhWFTVx4s"
    },
    {
      "cell_type": "code",
      "source": [
        "API_KEY=\"\"\n"
      ],
      "metadata": {
        "id": "umvKJHBNV3iq"
      },
      "id": "umvKJHBNV3iq",
      "execution_count": null,
      "outputs": []
    },
    {
      "cell_type": "code",
      "source": [
        "MODEL=\"gemini-2.5-flash-lite-preview-06-17\"\n",
        "from google import genai\n",
        "client = genai.Client(api_key=API_KEY)\n",
        "prompt = \"\"\"\n",
        "PARA esta vaga: Requisitos:\n",
        "\n",
        "Domínio de conceitos e técnicas de IA generativa, como modelos de linguagem (LLMs), GANs (Generative Adversarial Networks), transformers, etc.\n",
        "Familiaridade com frameworks como TensorFlow, PyTorch e Hugging Face.\n",
        "Conhecimento avançado dos serviços da AWS para IA e machine learning.\n",
        "Proficiência em linguagens como Python, Java, ou Node.js.\n",
        "Experiência com APIs, SDKs da AWS e infraestrutura como código (Terraform, CloudFormation).\n",
        "Conhecimento em pipelines de dados e ferramentas como AWS Glue, EMR e Kinesis.\n",
        "Experiência com pré-processamento e transformação de dados para treinamento de modelos.\n",
        "Conhecimento em práticas de segurança na nuvem e DevOps, incluindo CI/CD, containers (Docker, Kubernetes) e monitoramento.\n",
        "\n",
        "Tipo de vaga: Híbrido, Autônomo / PJ ;\n",
        "QUAL DOS CANDIDADOS MELHOR QUALIFICA:\n",
        "583.816 - Engenheiro / Cientista de dados - SP - Osasco - Superior incompleto - Inglês Intermediário\n",
        "Consultor em Engenharia de Dados com experiência em GenAI, LLMs, LangChain e AWS. Especialista em pipelines, RAG, APIs com Streamlit e integração de agentes inteligentes. Busco oportunidades em GenAI, Dados e ML.\n",
        "\n",
        "125.504 - Consultor / Especialista - SP - São Paulo - Superior incompleto - Inglês Intermediário\n",
        "Migraçao IaC com TERRAFORM, DOCKER, HELM, K8S,pipelines com github action, argoCD loadBalance/cluster-ip git,shell scripts, apache KAFKA, IA com llms,escolhidos, gap custo/Beneficios, transity-gateway , DATABRICS, observabilidade com datadog Dynatrace.\n",
        "\n",
        "567.816 - Programador / Desenvolvedor - SP - Engenheiro Coelho - Pós graduação - Inglês Intermediário\n",
        "Full-Stack Developer trabalhando com LLM, AI, Banco de Dados Vetoriais, Automação de Fluxos, ChatBots e Interfaces para Web.\n",
        "\n",
        "548.932 - Coordenador de Projetos / Sistemas - SP - São Paulo - MBA - Inglês Técnico\n",
        "Gerenciamento de projetos (E-commerce, Fulfillment, conciliador, implantação de sistemas/módulos Protheus), cronograma e recursos, daily com consultores, Follow UP semanal com cliente, envio de dashboard com Status Report. Coordenação dos chamados\n",
        "\n",
        "590.405 - Programador / Desenvolvedor - SP - São João da Boa Vista - Superior completo - Inglês Intermediário\n",
        "Ciência da Computação com experiência em desenvolvimento de software Web utilizando Java e Python. Durante a graduação, integrei uma equipe de pesquisa em Ciência de Dados e IA focada na aplicação de Large Language Models (LLMs).\n",
        "\n",
        "577.486 - Engenheiro / Cientista de dados - SP - Santo André - Pós graduação - Inglês Técnico\n",
        "Linguagens de Programação: Python, SQL, Git_Engenharia de Dados e ETL: Apache Airflow, PySpark_Visualização de Dados: Power BI, Qlik Sense_Machine Learning: Modelagem de Regressão,Classificação, Clustering_Modelos de Linguagem (LLMs) e IA Generativa\n",
        "\n",
        "322.150 - Analista de Sistemas / Aplicações - SP - São Paulo - Superior completo - Inglês Intermediário\n",
        "Experiência com Java, Angular, Node, Python, Springboot, Hibernate/JPA, EJB, web Services (Soap / Rest), JSON, Maven, MongoDB, ActiveMQ, Android, Flutter Inteligencia Aritificial, LLM, OpenAI, RAG, VectorDB AWS, Terraform\n",
        "\n",
        "252.482 - Analista de Sistemas / Aplicações - SP - Campinas - Pós graduação - Inglês Intermediário\n",
        "Profissional de TI com experiência em análise de sistemas, desenvolvimento e gestão, focado em back-end legado (PL/SQL, Java). Expertise em soluções bancárias, Java/Spring, microserviços, Docker e formação em Machine Learning, Deep Learning, LLMs e IA.PcD\n",
        "\n",
        "545.087 - Consultor / Especialista - SP - São Paulo - Superior completo - Inglês Fluente\n",
        "Desde 2018, atuo na implantação de projetos orientados a ciência de dados: metodologia CRISP-DM, research e discovery de dados, modelagem de dados e predição em Python (bibliotecas scikit-learn e keras) com ênfase em estatística. LLM e Generative IA\n",
        "\n",
        "294.605 - Engenheiro de Software - SP - São Paulo - Superior completo - Inglês Fluente\n",
        "Engenheiro de Software com 18+ anos de experiência em mainframe e modernização. Expertise em Cobol, CICS, JCL, DB2, SpringBoot, Angular, Java, C#, Python, Git, Docker, Kubernetes, Jenkins, Azure DevOps, Selenium, GenAI, LLMs, Prompt Engineering e CrewAi.\n",
        "\n",
        "\"\"\"\n",
        "response = client.models.generate_content(    model=MODEL, contents=prompt)\n",
        "print(response.text)"
      ],
      "metadata": {
        "id": "7fogjQf0V3lL"
      },
      "id": "7fogjQf0V3lL",
      "execution_count": null,
      "outputs": []
    }
  ],
  "metadata": {
    "kernelspec": {
      "display_name": "Python 3",
      "language": "python",
      "name": "python3"
    },
    "language_info": {
      "codemirror_mode": {
        "name": "ipython",
        "version": 3
      },
      "file_extension": ".py",
      "mimetype": "text/x-python",
      "name": "python",
      "nbconvert_exporter": "python",
      "pygments_lexer": "ipython3",
      "version": "3.10.10"
    },
    "colab": {
      "provenance": []
    }
  },
  "nbformat": 4,
  "nbformat_minor": 5
}